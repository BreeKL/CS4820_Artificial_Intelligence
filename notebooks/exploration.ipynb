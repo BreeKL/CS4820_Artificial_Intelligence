{
 "cells": [
  {
   "cell_type": "markdown",
   "metadata": {},
   "source": [
    "# Light Curve Data Exploration and Preprocessing\n",
    "\n",
    "This notebook demonstrates how to:\n",
    "1. Load and explore Kepler/TESS light curve data\n",
    "2. Apply preprocessing steps\n",
    "3. Prepare data for model training\n",
    "4. Visualize light curves and preprocessing results"
   ]
  },
  {
   "cell_type": "code",
   "execution_count": null,
   "metadata": {},
   "outputs": [],
   "source": [
    "import sys\n",
    "sys.path.append('../src')\n",
    "\n",
    "import numpy as np\n",
    "import matplotlib.pyplot as plt\n",
    "from pathlib import Path\n",
    "\n",
    "from preprocessing import LightCurvePreprocessor, DataAugmenter\n",
    "from utils import (\n",
    "    plot_light_curve, \n",
    "    plot_multiple_light_curves,\n",
    "    get_kepler_file_info,\n",
    "    create_data_splits\n",
    ")\n",
    "\n",
    "%matplotlib inline\n",
    "plt.style.use('seaborn-v0_8-darkgrid')"
   ]
  },
  {
   "cell_type": "markdown",
   "metadata": {},
   "source": [
    "## 1. Load and Inspect Raw Data"
   ]
  },
  {
   "cell_type": "code",
   "execution_count": null,
   "metadata": {},
   "outputs": [],
   "source": [
    "# Example FITS file path\n",
    "fits_file = '../data/raw/kplr001234567-2009131105131_llc.fits'\n",
    "\n",
    "# Get file metadata\n",
    "try:\n",
    "    info = get_kepler_file_info(fits_file)\n",
    "    print(\"File Metadata:\")\n",
    "    for key, value in info.items():\n",
    "        print(f\"  {key}: {value}\")\n",
    "except FileNotFoundError:\n",
    "    print(\"Example file not found. Please add your FITS files to data/raw/\")"
   ]
  },
  {
   "cell_type": "code",
   "execution_count": null,
   "metadata": {},
   "outputs": [],
   "source": [
    "# Load raw light curve\n",
    "preprocessor = LightCurvePreprocessor()\n",
    "\n",
    "try:\n",
    "    df = preprocessor.load_fits(fits_file)\n",
    "    print(f\"Loaded {len(df)} data points\")\n",
    "    print(f\"Time range: {df['time'].min():.2f} to {df['time'].max():.2f} BTJD\")\n",
    "    print(f\"Flux range: {df['flux'].min():.2f} to {df['flux'].max():.2f}\")\n",
    "    \n",
    "    # Plot raw light curve\n",
    "    plot_light_curve(\n",
    "        df['time'].values, \n",
    "        df['flux'].values,\n",
    "        title=\"Raw Light Curve\"\n",
    "    )\n",
    "except FileNotFoundError:\n",
    "    print(\"Please add FITS files to continue\")"
   ]
  },
  {
   "cell_type": "markdown",
   "metadata": {},
   "source": [
    "## 2. Apply Preprocessing Steps"
   ]
  },
  {
   "cell_type": "code",
   "execution_count": null,
   "metadata": {},
   "outputs": [],
   "source": [
    "# Initialize preprocessor with custom parameters\n",
    "preprocessor = LightCurvePreprocessor(\n",
    "    sigma_threshold=3.0,\n",
    "    rolling_window=50,\n",
    "    savgol_window=101,\n",
    "    savgol_poly=3,\n",
    "    max_gap_days=2.0,\n",
    "    segment_duration_days=90.0,\n",
    "    cadence_minutes=30.0\n",
    ")\n",
    "\n",
    "# Process the light curve\n",
    "try:\n",
    "    segments, timestamps = preprocessor.preprocess(\n",
    "        fits_file,\n",
    "        segment=True,\n",
    "        overlap=0.0\n",
    "    )\n",
    "    \n",
    "    print(f\"Created {len(segments)} segments\")\n",
    "    print(f\"Segment lengths: {[len(seg) for seg in segments[:5]]}...\")\n",
    "except FileNotFoundError:\n",
    "    print(\"Please add FITS files to continue\")\n",
    "    segments = []"
   ]
  },
  {
   "cell_type": "markdown",
   "metadata": {},
   "source": [
    "## 3. Visualize Preprocessing Results"
   ]
  },
  {
   "cell_type": "code",
   "execution_count": null,
   "metadata": {},
   "outputs": [],
   "source": [
    "# Plot first few segments\n",
    "if len(segments) > 0:\n",
    "    n_display = min(6, len(segments))\n",
    "    \n",
    "    fig, axes = plt.subplots(n_display, 1, figsize=(14, 3*n_display))\n",
    "    if n_display == 1:\n",
    "        axes = [axes]\n",
    "    \n",
    "    for i in range(n_display):\n",
    "        axes[i].plot(segments[i], linewidth=0.5, color='black')\n",
    "        axes[i].set_title(f'Segment {i+1} ({len(segments[i])} points)')\n",
    "        axes[i].set_xlabel('Time Step')\n",
    "        axes[i].set_ylabel('Normalized Flux')\n",
    "        axes[i].grid(alpha=0.3)\n",
    "    \n",
    "    plt.tight_layout()\n",
    "    plt.show()"
   ]
  },
  {
   "cell_type": "markdown",
   "metadata": {},
   "source": [
    "## 4. Data Augmentation Examples"
   ]
  },
  {
   "cell_type": "code",
   "execution_count": null,
   "metadata": {},
   "outputs": [],
   "source": [
    "if len(segments) > 0:\n",
    "    augmenter = DataAugmenter()\n",
    "    original = segments[0]\n",
    "    \n",
    "    # Apply different augmentations\n",
    "    aug_noise = augmenter.add_noise(original)\n",
    "    aug_shift = augmenter.time_shift(original)\n",
    "    aug_scale = augmenter.amplitude_scale(original)\n",
    "    aug_warp = augmenter.time_warp(original)\n",
    "    \n",
    "    # Plot comparisons\n",
    "    fig, axes = plt.subplots(5, 1, figsize=(14, 12))\n",
    "    \n",
    "    axes[0].plot(original, linewidth=0.5, color='black')\n",
    "    axes[0].set_title('Original')\n",
    "    \n",
    "    axes[1].plot(aug_noise, linewidth=0.5, color='blue')\n",
    "    axes[1].set_title('With Added Noise')\n",
    "    \n",
    "    axes[2].plot(aug_shift, linewidth=0.5, color='green')\n",
    "    axes[2].set_title('Time Shifted')\n",
    "    \n",
    "    axes[3].plot(aug_scale, linewidth=0.5, color='red')\n",
    "    axes[3].set_title('Amplitude Scaled')\n",
    "    \n",
    "    axes[4].plot(aug_warp, linewidth=0.5, color='purple')\n",
    "    axes[4].set_title('Time Warped')\n",
    "    \n",
    "    for ax in axes:\n",
    "        ax.set_xlabel('Time Step')\n",
    "        ax.set_ylabel('Flux')\n",
    "        ax.grid(alpha=0.3)\n",
    "    \n",
    "    plt.tight_layout()\n",
    "    plt.show()"
   ]
  },
  {
   "cell_type": "markdown",
   "metadata": {},
   "source": [
    "## 5. Batch Processing and Data Preparation"
   ]
  },
  {
   "cell_type": "code",
   "execution_count": null,
   "metadata": {},
   "outputs": [],
   "source": [
    "# Process multiple files\n",
    "raw_data_dir = Path('../data/raw')\n",
    "processed_dir = Path('../data/processed')\n",
    "processed_dir.mkdir(parents=True, exist_ok=True)\n",
    "\n",
    "# Get all FITS and CSV files\n",
    "fits_files = list(raw_data_dir.glob('*.fits'))\n",
    "csv_files = list(raw_data_dir.glob('*.csv'))\n",
    "all_files = fits_files + csv_files\n",
    "\n",
    "print(f\"Found {len(all_files)} files to process\")\n",
    "print(f\"  FITS: {len(fits_files)}\")\n",
    "print(f\"  CSV: {len(csv_files)}\")"
   ]
  },
  {
   "cell_type": "code",
   "execution_count": null,
   "metadata": {},
   "outputs": [],
   "source": [
    "# Process all files (example with mock labels)\n",
    "all_segments = []\n",
    "all_labels = []  # You need to provide actual labels\n",
    "all_filenames = []\n",
    "\n",
    "for file_path in all_files[:10]:  # Process first 10 as example\n",
    "    try:\n",
    "        print(f\"Processing {file_path.name}...\")\n",
    "        segments, _ = preprocessor.preprocess(str(file_path), segment=True)\n",
    "        \n",
    "        for segment in segments:\n",
    "            all_segments.append(segment)\n",
    "            # TODO: Add actual label logic here\n",
    "            # Example: check filename for 'transit' keyword\n",
    "            if 'transit' in file_path.name.lower():\n",
    "                all_labels.append(1)  # Transit\n",
    "            else:\n",
    "                all_labels.append(0)  # Non-transit\n",
    "            all_filenames.append(file_path.name)\n",
    "        \n",
    "        print(f\"  Created {len(segments)} segments\")\n",
    "    except Exception as e:\n",
    "        print(f\"  Error: {e}\")\n",
    "\n",
    "print(f\"\\nTotal segments: {len(all_segments)}\")"
   ]
  },
  {
   "cell_type": "markdown",
   "metadata": {},
   "source": [
    "## 6. Create Train/Val/Test Splits"
   ]
  },
  {
   "cell_type": "code",
   "execution_count": null,
   "metadata": {},
   "outputs": [],
   "source": [
    "if len(all_segments) > 0:\n",
    "    # Convert to numpy arrays\n",
    "    # Pad segments to same length\n",
    "    max_len = 4320\n",
    "    \n",
    "    def pad_segment(seg, length):\n",
    "        if len(seg) >= length:\n",
    "            return seg[:length]\n",
    "        else:\n",
    "            return np.concatenate([seg, np.zeros(length - len(seg))])\n",
    "    \n",
    "    flux_array = np.array([pad_segment(seg, max_len) for seg in all_segments])\n",
    "    labels_array = np.array(all_labels)\n",
    "    \n",
    "    # Shuffle and split\n",
    "    np.random.seed(42)\n",
    "    indices = np.arange(len(flux_array))\n",
    "    np.random.shuffle(indices)\n",
    "    \n",
    "    n_train = int(0.7 * len(indices))\n",
    "    n_val = int(0.15 * len(indices))\n",
    "    \n",
    "    train_idx = indices[:n_train]\n",
    "    val_idx = indices[n_train:n_train+n_val]\n",
    "    test_idx = indices[n_train+n_val:]\n",
    "    \n",
    "    # Save processed data\n",
    "    np.savez(\n",
    "        processed_dir / 'train_data.npz',\n",
    "        flux=flux_array[train_idx],\n",
    "        labels=labels_array[train_idx]\n",
    "    )\n",
    "    \n",
    "    np.savez(\n",
    "        processed_dir / 'val_data.npz',\n",
    "        flux=flux_array[val_idx],\n",
    "        labels=labels_array[val_idx]\n",
    "    )\n",
    "    \n",
    "    np.savez(\n",
    "        processed_dir / 'test_data.npz',\n",
    "        flux=flux_array[test_idx],\n",
    "        labels=labels_array[test_idx]\n",
    "    )\n",
    "    \n",
    "    print(f\"Saved processed data to {processed_dir}\")\n",
    "    print(f\"  Train: {len(train_idx)} samples\")\n",
    "    print(f\"  Val: {len(val_idx)} samples\")\n",
    "    print(f\"  Test: {len(test_idx)} samples\")"
   ]
  },
  {
   "cell_type": "markdown",
   "metadata": {},
   "source": [
    "## 7. Data Statistics"
   ]
  },
  {
   "cell_type": "code",
   "execution_count": null,
   "metadata": {},
   "outputs": [],
   "source": [
    "if len(all_segments) > 0:\n",
    "    # Compute statistics\n",
    "    segment_lengths = [len(seg) for seg in all_segments]\n",
    "    \n",
    "    print(\"Segment Length Statistics:\")\n",
    "    print(f\"  Mean: {np.mean(segment_lengths):.1f}\")\n",
    "    print(f\"  Median: {np.median(segment_lengths):.1f}\")\n",
    "    print(f\"  Min: {np.min(segment_lengths)}\")\n",
    "    print(f\"  Max: {np.max(segment_lengths)}\")\n",
    "    \n",
    "    # Plot histogram\n",
    "    plt.figure(figsize=(10, 5))\n",
    "    plt.hist(segment_lengths, bins=50, edgecolor='black')\n",
    "    plt.xlabel('Segment Length')\n",
    "    plt.ylabel('Count')\n",
    "    plt.title('Distribution of Segment Lengths')\n",
    "    plt.axvline(max_len, color='r', linestyle='--', label=f'Target Length ({max_len})')\n",
    "    plt.legend()\n",
    "    plt.grid(alpha=0.3)\n",
    "    plt.show()\n",
    "    \n",
    "    # Label distribution\n",
    "    unique, counts = np.unique(labels_array, return_counts=True)\n",
    "    print(\"\\nLabel Distribution:\")\n",
    "    for label, count in zip(unique, counts):\n",
    "        print(f\"  Class {label}: {count} ({100*count/len(labels_array):.1f}%)\")\n",
    "    \n",
    "    # Plot label distribution\n",
    "    plt.figure(figsize=(8, 5))\n",
    "    plt.bar(['Non-Transit', 'Transit'], counts)\n",
    "    plt.ylabel('Count')\n",
    "    plt.title('Class Distribution')\n",
    "    plt.grid(alpha=0.3, axis='y')\n",
    "    plt.show()"
   ]
  },
  {
   "cell_type": "markdown",
   "metadata": {},
   "source": [
    "## Next Steps\n",
    "\n",
    "1. Add your FITS/CSV files to `data/raw/`\n",
    "2. Update the label assignment logic in Section 5 based on your dataset\n",
    "3. Run this notebook to create processed data\n",
    "4. Run `python src/main.py --config configs/config.yaml` to train the model\n",
    "5. Use `src/evaluate.py` to assess model performance\n",
    "\n",
    "## Training Command\n",
    "\n",
    "After preprocessing, train your model:\n",
    "\n",
    "```bash\n",
    "cd /path/to/project\n",
    "python src/main.py --config configs/config.yaml\n",
    "```"
   ]
  }
 ],
 "metadata": {
  "kernelspec": {
   "display_name": "Python 3",
   "language": "python",
   "name": "python3"
  },
  "language_info": {
   "codemirror_mode": {
    "name": "ipython",
    "version": 3
   },
   "file_extension": ".py",
   "mimetype": "text/x-python",
   "name": "python",
   "nbconvert_exporter": "python",
   "pygments_lexer": "ipython3",
   "version": "3.8.0"
  }
 },
 "nbformat": 4,
 "nbformat_minor": 4
}
